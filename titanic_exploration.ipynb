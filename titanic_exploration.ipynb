{
 "cells": [
  {
   "cell_type": "code",
   "execution_count": 1,
   "id": "09cb7617",
   "metadata": {},
   "outputs": [
    {
     "data": {
      "text/html": [
       "<div>\n",
       "<style scoped>\n",
       "    .dataframe tbody tr th:only-of-type {\n",
       "        vertical-align: middle;\n",
       "    }\n",
       "\n",
       "    .dataframe tbody tr th {\n",
       "        vertical-align: top;\n",
       "    }\n",
       "\n",
       "    .dataframe thead th {\n",
       "        text-align: right;\n",
       "    }\n",
       "</style>\n",
       "<table border=\"1\" class=\"dataframe\">\n",
       "  <thead>\n",
       "    <tr style=\"text-align: right;\">\n",
       "      <th></th>\n",
       "      <th>PassengerId</th>\n",
       "      <th>Survived</th>\n",
       "      <th>Pclass</th>\n",
       "      <th>Name</th>\n",
       "      <th>Sex</th>\n",
       "      <th>Age</th>\n",
       "      <th>SibSp</th>\n",
       "      <th>Parch</th>\n",
       "      <th>Ticket</th>\n",
       "      <th>Fare</th>\n",
       "      <th>Cabin</th>\n",
       "      <th>Embarked</th>\n",
       "    </tr>\n",
       "  </thead>\n",
       "  <tbody>\n",
       "    <tr>\n",
       "      <th>0</th>\n",
       "      <td>1</td>\n",
       "      <td>0</td>\n",
       "      <td>3</td>\n",
       "      <td>Braund, Mr. Owen Harris</td>\n",
       "      <td>male</td>\n",
       "      <td>22.0</td>\n",
       "      <td>1</td>\n",
       "      <td>0</td>\n",
       "      <td>A/5 21171</td>\n",
       "      <td>7.2500</td>\n",
       "      <td>NaN</td>\n",
       "      <td>S</td>\n",
       "    </tr>\n",
       "    <tr>\n",
       "      <th>1</th>\n",
       "      <td>2</td>\n",
       "      <td>1</td>\n",
       "      <td>1</td>\n",
       "      <td>Cumings, Mrs. John Bradley (Florence Briggs Th...</td>\n",
       "      <td>female</td>\n",
       "      <td>38.0</td>\n",
       "      <td>1</td>\n",
       "      <td>0</td>\n",
       "      <td>PC 17599</td>\n",
       "      <td>71.2833</td>\n",
       "      <td>C85</td>\n",
       "      <td>C</td>\n",
       "    </tr>\n",
       "    <tr>\n",
       "      <th>2</th>\n",
       "      <td>3</td>\n",
       "      <td>1</td>\n",
       "      <td>3</td>\n",
       "      <td>Heikkinen, Miss. Laina</td>\n",
       "      <td>female</td>\n",
       "      <td>26.0</td>\n",
       "      <td>0</td>\n",
       "      <td>0</td>\n",
       "      <td>STON/O2. 3101282</td>\n",
       "      <td>7.9250</td>\n",
       "      <td>NaN</td>\n",
       "      <td>S</td>\n",
       "    </tr>\n",
       "    <tr>\n",
       "      <th>3</th>\n",
       "      <td>4</td>\n",
       "      <td>1</td>\n",
       "      <td>1</td>\n",
       "      <td>Futrelle, Mrs. Jacques Heath (Lily May Peel)</td>\n",
       "      <td>female</td>\n",
       "      <td>35.0</td>\n",
       "      <td>1</td>\n",
       "      <td>0</td>\n",
       "      <td>113803</td>\n",
       "      <td>53.1000</td>\n",
       "      <td>C123</td>\n",
       "      <td>S</td>\n",
       "    </tr>\n",
       "    <tr>\n",
       "      <th>4</th>\n",
       "      <td>5</td>\n",
       "      <td>0</td>\n",
       "      <td>3</td>\n",
       "      <td>Allen, Mr. William Henry</td>\n",
       "      <td>male</td>\n",
       "      <td>35.0</td>\n",
       "      <td>0</td>\n",
       "      <td>0</td>\n",
       "      <td>373450</td>\n",
       "      <td>8.0500</td>\n",
       "      <td>NaN</td>\n",
       "      <td>S</td>\n",
       "    </tr>\n",
       "    <tr>\n",
       "      <th>...</th>\n",
       "      <td>...</td>\n",
       "      <td>...</td>\n",
       "      <td>...</td>\n",
       "      <td>...</td>\n",
       "      <td>...</td>\n",
       "      <td>...</td>\n",
       "      <td>...</td>\n",
       "      <td>...</td>\n",
       "      <td>...</td>\n",
       "      <td>...</td>\n",
       "      <td>...</td>\n",
       "      <td>...</td>\n",
       "    </tr>\n",
       "    <tr>\n",
       "      <th>886</th>\n",
       "      <td>887</td>\n",
       "      <td>0</td>\n",
       "      <td>2</td>\n",
       "      <td>Montvila, Rev. Juozas</td>\n",
       "      <td>male</td>\n",
       "      <td>27.0</td>\n",
       "      <td>0</td>\n",
       "      <td>0</td>\n",
       "      <td>211536</td>\n",
       "      <td>13.0000</td>\n",
       "      <td>NaN</td>\n",
       "      <td>S</td>\n",
       "    </tr>\n",
       "    <tr>\n",
       "      <th>887</th>\n",
       "      <td>888</td>\n",
       "      <td>1</td>\n",
       "      <td>1</td>\n",
       "      <td>Graham, Miss. Margaret Edith</td>\n",
       "      <td>female</td>\n",
       "      <td>19.0</td>\n",
       "      <td>0</td>\n",
       "      <td>0</td>\n",
       "      <td>112053</td>\n",
       "      <td>30.0000</td>\n",
       "      <td>B42</td>\n",
       "      <td>S</td>\n",
       "    </tr>\n",
       "    <tr>\n",
       "      <th>888</th>\n",
       "      <td>889</td>\n",
       "      <td>0</td>\n",
       "      <td>3</td>\n",
       "      <td>Johnston, Miss. Catherine Helen \"Carrie\"</td>\n",
       "      <td>female</td>\n",
       "      <td>NaN</td>\n",
       "      <td>1</td>\n",
       "      <td>2</td>\n",
       "      <td>W./C. 6607</td>\n",
       "      <td>23.4500</td>\n",
       "      <td>NaN</td>\n",
       "      <td>S</td>\n",
       "    </tr>\n",
       "    <tr>\n",
       "      <th>889</th>\n",
       "      <td>890</td>\n",
       "      <td>1</td>\n",
       "      <td>1</td>\n",
       "      <td>Behr, Mr. Karl Howell</td>\n",
       "      <td>male</td>\n",
       "      <td>26.0</td>\n",
       "      <td>0</td>\n",
       "      <td>0</td>\n",
       "      <td>111369</td>\n",
       "      <td>30.0000</td>\n",
       "      <td>C148</td>\n",
       "      <td>C</td>\n",
       "    </tr>\n",
       "    <tr>\n",
       "      <th>890</th>\n",
       "      <td>891</td>\n",
       "      <td>0</td>\n",
       "      <td>3</td>\n",
       "      <td>Dooley, Mr. Patrick</td>\n",
       "      <td>male</td>\n",
       "      <td>32.0</td>\n",
       "      <td>0</td>\n",
       "      <td>0</td>\n",
       "      <td>370376</td>\n",
       "      <td>7.7500</td>\n",
       "      <td>NaN</td>\n",
       "      <td>Q</td>\n",
       "    </tr>\n",
       "  </tbody>\n",
       "</table>\n",
       "<p>891 rows × 12 columns</p>\n",
       "</div>"
      ],
      "text/plain": [
       "     PassengerId  Survived  Pclass  \\\n",
       "0              1         0       3   \n",
       "1              2         1       1   \n",
       "2              3         1       3   \n",
       "3              4         1       1   \n",
       "4              5         0       3   \n",
       "..           ...       ...     ...   \n",
       "886          887         0       2   \n",
       "887          888         1       1   \n",
       "888          889         0       3   \n",
       "889          890         1       1   \n",
       "890          891         0       3   \n",
       "\n",
       "                                                  Name     Sex   Age  SibSp  \\\n",
       "0                              Braund, Mr. Owen Harris    male  22.0      1   \n",
       "1    Cumings, Mrs. John Bradley (Florence Briggs Th...  female  38.0      1   \n",
       "2                               Heikkinen, Miss. Laina  female  26.0      0   \n",
       "3         Futrelle, Mrs. Jacques Heath (Lily May Peel)  female  35.0      1   \n",
       "4                             Allen, Mr. William Henry    male  35.0      0   \n",
       "..                                                 ...     ...   ...    ...   \n",
       "886                              Montvila, Rev. Juozas    male  27.0      0   \n",
       "887                       Graham, Miss. Margaret Edith  female  19.0      0   \n",
       "888           Johnston, Miss. Catherine Helen \"Carrie\"  female   NaN      1   \n",
       "889                              Behr, Mr. Karl Howell    male  26.0      0   \n",
       "890                                Dooley, Mr. Patrick    male  32.0      0   \n",
       "\n",
       "     Parch            Ticket     Fare Cabin Embarked  \n",
       "0        0         A/5 21171   7.2500   NaN        S  \n",
       "1        0          PC 17599  71.2833   C85        C  \n",
       "2        0  STON/O2. 3101282   7.9250   NaN        S  \n",
       "3        0            113803  53.1000  C123        S  \n",
       "4        0            373450   8.0500   NaN        S  \n",
       "..     ...               ...      ...   ...      ...  \n",
       "886      0            211536  13.0000   NaN        S  \n",
       "887      0            112053  30.0000   B42        S  \n",
       "888      2        W./C. 6607  23.4500   NaN        S  \n",
       "889      0            111369  30.0000  C148        C  \n",
       "890      0            370376   7.7500   NaN        Q  \n",
       "\n",
       "[891 rows x 12 columns]"
      ]
     },
     "execution_count": 1,
     "metadata": {},
     "output_type": "execute_result"
    }
   ],
   "source": [
    "import pandas as pd\n",
    "\n",
    "train_set = pd.read_csv('train.csv')\n",
    "\n",
    "train_set"
   ]
  },
  {
   "cell_type": "markdown",
   "id": "87957ef2",
   "metadata": {},
   "source": [
    "## Data Dictionary\n",
    "\n",
    "| Variable   | Definition                          | Key                                        |\n",
    "|------------|------------------------------------|--------------------------------------------|\n",
    "| survival   | Survival                            | 0 = No, 1 = Yes                            |\n",
    "| pclass     | Ticket class                        | 1 = 1st, 2 = 2nd, 3 = 3rd                  |\n",
    "| sex        | Sex                                |                                            |\n",
    "| Age        | Age in years                        |                                            |\n",
    "| sibsp      | # of siblings / spouses aboard the Titanic |                                        |\n",
    "| parch      | # of parents / children aboard the Titanic |                                    |\n",
    "| ticket     | Ticket number                       |                                            |\n",
    "| fare       | Passenger fare                      |                                            |\n",
    "| cabin      | Cabin number                        |                                            |\n",
    "| embarked   | Port of Embarkation                 | C = Cherbourg, Q = Queenstown, S = Southampton |\n",
    "|            |                                    |                                            |\n",
    "\n",
    "These are the variables and their definitions for the dataset you mentioned.\n",
    "pclass: A proxy for socio-economic status (SES)\n",
    "1st = Upper\n",
    "2nd = Middle\n",
    "3rd = Lower\n",
    "\n",
    "age: Age is fractional if less than 1. If the age is estimated, is it in the form of xx.5\n",
    "\n",
    "sibsp: The dataset defines family relations in this way...\n",
    "Sibling = brother, sister, stepbrother, stepsister\n",
    "Spouse = husband, wife (mistresses and fiancés were ignored)\n",
    "\n",
    "parch: The dataset defines family relations in this way...\n",
    "Parent = mother, father\n",
    "Child = daughter, son, stepdaughter, stepson\n",
    "Some children travelled only with a nanny, therefore parch=0 for them."
   ]
  },
  {
   "attachments": {},
   "cell_type": "markdown",
   "id": "f586da13",
   "metadata": {},
   "source": [
    "![convert notebook to web app](https://www.titanicstory.com/cutaway.gif)"
   ]
  },
  {
   "cell_type": "markdown",
   "id": "380151c7",
   "metadata": {},
   "source": [
    "![convert notebook to web app](https://i.pinimg.com/736x/68/6b/ee/686bee12fbeaa345afdeec6097eb993a.jpg)"
   ]
  },
  {
   "cell_type": "markdown",
   "id": "cc901f63",
   "metadata": {},
   "source": [
    "![convert notebook to web app](https://www.simscale.com/wp-content/uploads/2017/12/titanicBreakupReconstruction.jpg)"
   ]
  },
  {
   "cell_type": "code",
   "execution_count": 3,
   "id": "13e897be",
   "metadata": {},
   "outputs": [
    {
     "name": "stdout",
     "output_type": "stream",
     "text": [
      "<class 'pandas.core.frame.DataFrame'>\n",
      "RangeIndex: 891 entries, 0 to 890\n",
      "Data columns (total 12 columns):\n",
      " #   Column       Non-Null Count  Dtype  \n",
      "---  ------       --------------  -----  \n",
      " 0   PassengerId  891 non-null    int64  \n",
      " 1   Survived     891 non-null    int64  \n",
      " 2   Pclass       891 non-null    int64  \n",
      " 3   Name         891 non-null    object \n",
      " 4   Sex          891 non-null    object \n",
      " 5   Age          714 non-null    float64\n",
      " 6   SibSp        891 non-null    int64  \n",
      " 7   Parch        891 non-null    int64  \n",
      " 8   Ticket       891 non-null    object \n",
      " 9   Fare         891 non-null    float64\n",
      " 10  Cabin        204 non-null    object \n",
      " 11  Embarked     889 non-null    object \n",
      "dtypes: float64(2), int64(5), object(5)\n",
      "memory usage: 83.7+ KB\n"
     ]
    }
   ],
   "source": [
    "train_set.info()"
   ]
  },
  {
   "cell_type": "code",
   "execution_count": 23,
   "id": "8ee35995",
   "metadata": {},
   "outputs": [
    {
     "data": {
      "text/plain": [
       "array(['Mr', 'Mrs', 'Miss', 'Master', 'Don', 'Rev', 'Dr', 'Mme', 'Ms',\n",
       "       'Major', 'Lady', 'Sir', 'Mlle', 'Col', 'Capt', 'Countess',\n",
       "       'Jonkheer'], dtype=object)"
      ]
     },
     "execution_count": 23,
     "metadata": {},
     "output_type": "execute_result"
    }
   ],
   "source": [
    "import re\n",
    "\n",
    "# Define a function to extract the title from the 'Name' column\n",
    "def extract_title(name):\n",
    "    title_match = re.search(r' ([A-Za-z]+)\\.', name)\n",
    "    if title_match:\n",
    "        return title_match.group(1)\n",
    "    return None\n",
    "\n",
    "# Define a function to extract the surname from the 'Name' column\n",
    "def extract_surname(name):\n",
    "    parts = name.split(',')\n",
    "    if len(parts) > 0:\n",
    "        return parts[0]\n",
    "    return None\n",
    "\n",
    "# Define a function to group passengers by SibSp, Parch, surname, and title\n",
    "def find_kindred(passenger):\n",
    "    group = train_set[(train_set['SibSp'] == passenger['SibSp']) &\n",
    "                      (train_set['Parch'] == passenger['Parch']) &\n",
    "                      (train_set['Surname'] == passenger['Surname']) &\n",
    "                    (train_set['Title'] == passenger['Title'])]\n",
    "    return group\n",
    "\n",
    "# Add new 'Surname' and 'Title' columns\n",
    "train_set['Surname'] = train_set['Name'].apply(extract_surname)\n",
    "train_set['Title'] = train_set['Name'].apply(extract_title)\n",
    "\n",
    "train_set['Title'].unique()"
   ]
  },
  {
   "cell_type": "code",
   "execution_count": 24,
   "id": "5668368d",
   "metadata": {},
   "outputs": [],
   "source": [
    "# Fill the 'Cabin' column based on kindred groups, but only for passengers without a 'Cabin' entry\n",
    "for index, passenger in train_set.iterrows():\n",
    "    if pd.isna(passenger['Cabin']):  # Check if 'Cabin' is empty\n",
    "        kindred_group = find_kindred(passenger)\n",
    "        if len(kindred_group) > 1:  # If there are more than one passenger in the kindred group\n",
    "            cabin_names = kindred_group['Cabin'].dropna()  # Get non-null cabin names within the group\n",
    "            if not cabin_names.empty:\n",
    "                train_set.at[index, 'Cabin'] = cabin_names.iloc[0]  # Fill with the first non-null cabin name"
   ]
  },
  {
   "cell_type": "code",
   "execution_count": 25,
   "id": "ae9eb366",
   "metadata": {
    "scrolled": true
   },
   "outputs": [
    {
     "name": "stdout",
     "output_type": "stream",
     "text": [
      "<class 'pandas.core.frame.DataFrame'>\n",
      "RangeIndex: 891 entries, 0 to 890\n",
      "Data columns (total 14 columns):\n",
      " #   Column       Non-Null Count  Dtype  \n",
      "---  ------       --------------  -----  \n",
      " 0   PassengerId  891 non-null    int64  \n",
      " 1   Survived     891 non-null    int64  \n",
      " 2   Pclass       891 non-null    int64  \n",
      " 3   Name         891 non-null    object \n",
      " 4   Sex          891 non-null    object \n",
      " 5   Age          714 non-null    float64\n",
      " 6   SibSp        891 non-null    int64  \n",
      " 7   Parch        891 non-null    int64  \n",
      " 8   Ticket       891 non-null    object \n",
      " 9   Fare         891 non-null    float64\n",
      " 10  Cabin        213 non-null    object \n",
      " 11  Embarked     889 non-null    object \n",
      " 12  Surname      891 non-null    object \n",
      " 13  Title        891 non-null    object \n",
      "dtypes: float64(2), int64(5), object(7)\n",
      "memory usage: 97.6+ KB\n"
     ]
    }
   ],
   "source": [
    "train_set.info()"
   ]
  },
  {
   "cell_type": "code",
   "execution_count": null,
   "id": "bf393079",
   "metadata": {},
   "outputs": [],
   "source": []
  },
  {
   "cell_type": "markdown",
   "id": "109c3290",
   "metadata": {},
   "source": [
    "The code above didn't help so much. We filled only 9 missing cabins"
   ]
  },
  {
   "cell_type": "code",
   "execution_count": 26,
   "id": "8261d46e",
   "metadata": {
    "scrolled": true
   },
   "outputs": [
    {
     "data": {
      "image/png": "[encoded data removed]",
      "text/plain": [
       "<Figure size 800x500 with 1 Axes>"
      ]
     },
     "metadata": {},
     "output_type": "display_data"
    }
   ],
   "source": [
    "import matplotlib.pyplot as plt\n",
    "\n",
    "plt.figure(figsize=(8, 5))\n",
    "train_set.groupby('Pclass')['Survived'].mean().plot(kind='bar')\n",
    "plt.title('Survival Rate by Passenger Class')\n",
    "plt.xlabel('Passenger Class')\n",
    "plt.ylabel('Survival Rate')\n",
    "plt.show()"
   ]
  },
  {
   "cell_type": "markdown",
   "id": "a353d51e",
   "metadata": {},
   "source": [
    "It could be explained by the location of cabins in each class. Typically, the higher-class cabins are located in the upper parts of the ship, while lower-class cabins are situated lower down."
   ]
  },
  {
   "cell_type": "markdown",
   "id": "2bfc214e",
   "metadata": {},
   "source": [
    "We missed some age values. I can fill NaN by mean, median or do some reserch. I assume, that passengers without title are children and we can give them random age between 0 and 16.\n",
    "\n",
    "'Mr' give 16-70\n",
    "\n",
    "'Mrs' give 20-80\n",
    "\n",
    "'Miss' give 12-20\n",
    "\n",
    "'Master' give 12-20\n",
    "\n",
    "'Don' give 30-70\n",
    "\n",
    "'Rev' give 50-80\n",
    "\n",
    "'Dr' give 40-80\n",
    "\n",
    "'Mme' give 20-70\n",
    "\n",
    "'Ms' give 15-80\n",
    "\n",
    "'Major' give 40-70\n",
    "\n",
    "'Lady' give 50-80\n",
    "\n",
    "'Sir' give 50-70\n",
    "\n",
    "'Mlle' give 12-20\n",
    "\n",
    "'Col' give 20-40\n",
    "\n",
    "'Capt' give 20-40\n",
    "\n",
    "'Countess' give 50-80\n",
    "\n",
    "'Jonkheer' give 20-70"
   ]
  },
  {
   "cell_type": "code",
   "execution_count": 27,
   "id": "9390cdff",
   "metadata": {},
   "outputs": [],
   "source": [
    "import random\n",
    "\n",
    "# Define a function to fill missing age values based on titles\n",
    "def fill_age_based_on_title(passenger):\n",
    "    title = passenger['Title']\n",
    "    age = passenger['Age']\n",
    "\n",
    "    if pd.isna(age):  # Check if age is missing\n",
    "        if title == 'Mr':\n",
    "            return 16 + 54 * random.random()  # Random age between 16 and 70\n",
    "        elif title == 'Mrs':\n",
    "            return 20 + 60 * random.random()  # Random age between 20 and 80\n",
    "        elif title in ['Miss', 'Master', 'Mlle']:\n",
    "            return 12 + 8 * random.random()  # Random age between 12 and 20\n",
    "        elif title in ['Don', 'Rev', 'Dr', 'Mme', 'Ms', 'Major', 'Lady', 'Sir', 'Countess', 'Jonkheer']:\n",
    "            return 30 + 40 * random.random()  # Random age between 30 and 70\n",
    "        elif title in ['Col', 'Capt']:\n",
    "            return 20 + 20 * random.random()  # Random age between 20 and 40\n",
    "        else:  # Default for passengers without a recognized title\n",
    "            return 0 + 16 * random.random()  # Random age between 0 and 16\n",
    "    else:\n",
    "        return age\n",
    "\n",
    "train_set['Age'] = train_set.apply(fill_age_based_on_title, axis=1)"
   ]
  },
  {
   "cell_type": "code",
   "execution_count": 29,
   "id": "24afa850",
   "metadata": {},
   "outputs": [
    {
     "name": "stdout",
     "output_type": "stream",
     "text": [
      "<class 'pandas.core.frame.DataFrame'>\n",
      "RangeIndex: 891 entries, 0 to 890\n",
      "Data columns (total 14 columns):\n",
      " #   Column       Non-Null Count  Dtype  \n",
      "---  ------       --------------  -----  \n",
      " 0   PassengerId  891 non-null    int64  \n",
      " 1   Survived     891 non-null    int64  \n",
      " 2   Pclass       891 non-null    int64  \n",
      " 3   Name         891 non-null    object \n",
      " 4   Sex          891 non-null    object \n",
      " 5   Age          891 non-null    float64\n",
      " 6   SibSp        891 non-null    int64  \n",
      " 7   Parch        891 non-null    int64  \n",
      " 8   Ticket       891 non-null    object \n",
      " 9   Fare         891 non-null    float64\n",
      " 10  Cabin        213 non-null    object \n",
      " 11  Embarked     889 non-null    object \n",
      " 12  Surname      891 non-null    object \n",
      " 13  Title        891 non-null    object \n",
      "dtypes: float64(2), int64(5), object(7)\n",
      "memory usage: 97.6+ KB\n"
     ]
    }
   ],
   "source": [
    "train_set.info()"
   ]
  },
  {
   "cell_type": "code",
   "execution_count": 33,
   "id": "4e73f74a",
   "metadata": {
    "scrolled": true
   },
   "outputs": [
    {
     "data": {
      "image/png": "[encoded data removed]",
      "text/plain": [
       "<Figure size 800x500 with 1 Axes>"
      ]
     },
     "metadata": {},
     "output_type": "display_data"
    }
   ],
   "source": [
    "plt.figure(figsize=(8, 5))\n",
    "train_set.groupby('Embarked')['Survived'].mean().plot(kind='bar')\n",
    "plt.title('Survival Rate by ')\n",
    "plt.xlabel(' ')\n",
    "plt.ylabel('Survival Rate')\n",
    "plt.show()"
   ]
  },
  {
   "cell_type": "markdown",
   "id": "f6d732c7",
   "metadata": {},
   "source": [
    "![](https://upload.wikimedia.org/wikipedia/commons/thumb/a/af/TitanicRoute.svg/2560px-TitanicRoute.svg.png)"
   ]
  },
  {
   "cell_type": "code",
   "execution_count": 38,
   "id": "fa221e0f",
   "metadata": {
    "scrolled": true
   },
   "outputs": [
    {
     "data": {
      "text/plain": [
       "Text(0.5, 0.98, '')"
      ]
     },
     "execution_count": 38,
     "metadata": {},
     "output_type": "execute_result"
    },
    {
     "data": {
      "image/png": "[encoded data removed]",
      "text/plain": [
       "<Figure size 640x480 with 1 Axes>"
      ]
     },
     "metadata": {},
     "output_type": "display_data"
    }
   ],
   "source": [
    "ax = train_set.boxplot(by='Embarked', column='Fare')\n",
    "ax.set_xlabel('Embarked')\n",
    "ax.set_ylabel('')\n",
    "plt.suptitle('')"
   ]
  },
  {
   "cell_type": "code",
   "execution_count": 52,
   "id": "15ddb7a9",
   "metadata": {
    "scrolled": true
   },
   "outputs": [
    {
     "name": "stdout",
     "output_type": "stream",
     "text": [
      "Count of classes for passengers from Cherbourg \n",
      "1    85\n",
      "3    66\n",
      "2    17\n",
      "Name: Pclass, dtype: int64 \n",
      " 1    50.595238\n",
      "3    39.285714\n",
      "2    10.119048\n",
      "Name: Pclass, dtype: float64\n",
      "\n",
      "Count of classes for passengers from Queenstown \n",
      "3    72\n",
      "2     3\n",
      "1     2\n",
      "Name: Pclass, dtype: int64\n",
      "3    93.506494\n",
      "2     3.896104\n",
      "1     2.597403\n",
      "Name: Pclass, dtype: float64\n",
      "\n",
      "Count of classes for passengers from Southampton \n",
      "3    353\n",
      "2    164\n",
      "1    127\n",
      "Name: Pclass, dtype: int64\n",
      "3    54.813665\n",
      "2    25.465839\n",
      "1    19.720497\n",
      "Name: Pclass, dtype: float64\n",
      "\n"
     ]
    }
   ],
   "source": [
    "print(f\"Count of classes for passengers from Cherbourg \\n{train_set[train_set['Embarked']=='C']['Pclass'].value_counts()} \\n {train_set[train_set['Embarked'] == 'C']['Pclass'].value_counts(normalize=True) * 100}\\n\")\n",
    "print(f\"Count of classes for passengers from Queenstown \\n{train_set[train_set['Embarked']=='Q']['Pclass'].value_counts()}\\n{train_set[train_set['Embarked'] == 'Q']['Pclass'].value_counts(normalize=True) * 100}\\n\")\n",
    "print(f\"Count of classes for passengers from Southampton \\n{train_set[train_set['Embarked']=='S']['Pclass'].value_counts()}\\n{train_set[train_set['Embarked'] == 'S']['Pclass'].value_counts(normalize=True) * 100}\\n\")"
   ]
  },
  {
   "cell_type": "markdown",
   "id": "e30c607d",
   "metadata": {},
   "source": [
    "French are richer (at least on this board)"
   ]
  },
  {
   "cell_type": "code",
   "execution_count": 34,
   "id": "72e645aa",
   "metadata": {
    "scrolled": true
   },
   "outputs": [
    {
     "data": {
      "image/png": "[encoded data removed]",
      "text/plain": [
       "<Figure size 800x500 with 1 Axes>"
      ]
     },
     "metadata": {},
     "output_type": "display_data"
    }
   ],
   "source": [
    "plt.figure(figsize=(8, 5))\n",
    "train_set.groupby('SibSp')['Survived'].mean().plot(kind='bar')\n",
    "plt.title('Survival Rate by ')\n",
    "plt.xlabel(' ')\n",
    "plt.ylabel('Survival Rate')\n",
    "plt.show()"
   ]
  },
  {
   "cell_type": "markdown",
   "id": "56d93ef0",
   "metadata": {},
   "source": [
    "We can observe a correlation between the number of relatives and the likelihood of survival. I assume that it's easier for 2 or 3 family members to assist each other than for members of a large family. For instance, if you are the head of a large family, you would need to simultaneously care for children and elderly members, which could be more challenging."
   ]
  },
  {
   "cell_type": "code",
   "execution_count": 55,
   "id": "af8f6f91",
   "metadata": {},
   "outputs": [
    {
     "data": {
      "image/png": "[encoded data removed]",
      "text/plain": [
       "<Figure size 800x500 with 1 Axes>"
      ]
     },
     "metadata": {},
     "output_type": "display_data"
    }
   ],
   "source": [
    "plt.figure(figsize=(8, 5))\n",
    "train_set.groupby('SibSp')['Fare'].mean().plot(kind='bar')\n",
    "plt.title(' ')\n",
    "plt.xlabel('Relatives')\n",
    "plt.ylabel('Fare')\n",
    "plt.show()"
   ]
  },
  {
   "cell_type": "code",
   "execution_count": null,
   "id": "0d40d6d2",
   "metadata": {},
   "outputs": [],
   "source": []
  }
 ],
 "metadata": {
  "kernelspec": {
   "display_name": "Python 3 (ipykernel)",
   "language": "python",
   "name": "python3"
  },
  "language_info": {
   "codemirror_mode": {
    "name": "ipython",
    "version": 3
   },
   "file_extension": ".py",
   "mimetype": "text/x-python",
   "name": "python",
   "nbconvert_exporter": "python",
   "pygments_lexer": "ipython3",
   "version": "3.11.2"
  }
 },
 "nbformat": 4,
 "nbformat_minor": 5
}
